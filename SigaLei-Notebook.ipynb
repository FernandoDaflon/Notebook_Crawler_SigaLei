{
 "cells": [
  {
   "cell_type": "markdown",
   "metadata": {},
   "source": [
    "# ================\n",
    "\n",
    "# PROJETO SIGALEI\n",
    "\n",
    "# ================"
   ]
  },
  {
   "cell_type": "markdown",
   "metadata": {},
   "source": [
    "#### REQUIREMENTS:\n",
    "fake-useragent\n",
    "lxml\n",
    "numpy\n",
    "pandas\n",
    "request\n",
    "urllib3\n",
    "itertools\n",
    "hashlib"
   ]
  },
  {
   "cell_type": "code",
   "execution_count": 1,
   "metadata": {},
   "outputs": [],
   "source": [
    "import hashlib\n",
    "import requests\n",
    "import pandas as pd\n",
    "from lxml import html\n",
    "from datetime import datetime, timedelta, date\n",
    "from fake_useragent import UserAgent\n",
    "import json\n",
    "from math import ceil\n",
    "import os\n",
    "import itertools"
   ]
  },
  {
   "cell_type": "code",
   "execution_count": 2,
   "metadata": {},
   "outputs": [],
   "source": [
    "ano_atual = datetime.today().year\n",
    "hj = date.today()\n",
    "dias_3 = hj - timedelta(days=3)"
   ]
  },
  {
   "cell_type": "markdown",
   "metadata": {},
   "source": [
    "# FUNÇÕES\n",
    "\n",
    "***"
   ]
  },
  {
   "cell_type": "markdown",
   "metadata": {},
   "source": [
    "## * retorna_props()\n",
    "<style>\n",
    "    /* Jupyter */\n",
    "    .rendered_html table,\n",
    "    /* Jupyter Lab*/\n",
    "    div[data-mime-type=\"text-markdown\"] table {\n",
    "        margin-left: 0\n",
    "    }\n",
    "</style>\n",
    "\n",
    "Recebe a resposta em JSON da API da Camara e extrai dados **data de apresentação, titulo da proposição e id da proposição**.o\n",
    "\n",
    "Ex.:\n",
    "\n",
    "data de apresentação | titulo da proposição | id da proposição\n",
    "-- | -- | --\n",
    "2021-09-17T15:25:00 | PL 3211/2021 | 2299232\n",
    "\n",
    "A *Id da proposição* é usada para completar o link onde está localizado o pdf de __*Inteiro Teor*__ e fazer o download.\n",
    "Cada pd é salvo temporariamente e desse arquivo temporario é extraído o hash md5.\n",
    "\n",
    "Com isso, o md5 de cada proposicao é formando listas com **data de apresentação, titulo da proposição, id da proposição e md5**.\n",
    "\n",
    "Ex.:\n",
    "\n",
    "data de apresentação | titulo da proposição | id da proposição | md5\n",
    "-- | -- | -- | --\n",
    "2021-09-17 | PL 3211-2021 | 2299232 | 4d9eef77f177f4e9b4113f9163b575e5\n",
    "\n",
    "A função retorna uma listas com essas listas."
   ]
  },
  {
   "cell_type": "code",
   "execution_count": 3,
   "metadata": {},
   "outputs": [],
   "source": [
    "def retorna_props(qtd, resp_json, dias_3):\n",
    "    lista_preps = []\n",
    "    i = 0\n",
    "    while i < qtd:\n",
    "        data = resp_json['hits']['hits'][i]['_source']['dataApresentacao'][:10]\n",
    "        data = datetime.strptime(data, '%Y-%m-%d').date()\n",
    "        titulo = resp_json['hits']['hits'][i]['_source']['titulo'].replace('/','-')\n",
    "        id_preposicao = resp_json['hits']['hits'][i]['_id']\n",
    "        i += 1\n",
    "        if data >= dias_3:\n",
    "            url_prep = f'https://www.camara.leg.br/proposicoesWeb/fichadetramitacao?idProposicao={id_preposicao}'\n",
    "            resp = requests.get(url=url_prep)\n",
    "            tree = html.fromstring(html=resp.text)\n",
    "            link_pdf = tree.xpath('//*[@id=\"content\"]/h3[1]/span[2]/a/@href')[0]\n",
    "            elo = link_pdf[link_pdf.find('codteor'):]\n",
    "            url_pdf = f'https://www.camara.leg.br/proposicoesWeb/prop_mostrarintegra?{elo}.pdf'\n",
    "            chunk_size = 2000\n",
    "            r = requests.get(url_pdf, stream=True)\n",
    "            salva_pdf = 'salva_pdf'\n",
    "            with open(f'{salva_pdf}.pdf', 'wb') as fd:\n",
    "                for chunk in r.iter_content(chunk_size):\n",
    "                    fd.write(chunk)\n",
    "            path = f'{salva_pdf}.pdf'\n",
    "            with open(path, 'rb') as opened_file:\n",
    "                content = opened_file.read()\n",
    "                md5 = hashlib.md5()\n",
    "                md5.update(content)\n",
    "                md5_pdf = md5.hexdigest()          \n",
    "            lista_preps.append([data.strftime('%Y-%m-%d'), titulo, id_preposicao, md5_pdf])\n",
    "        else:\n",
    "            pass\n",
    "    \n",
    "    return lista_preps"
   ]
  },
  {
   "cell_type": "markdown",
   "metadata": {},
   "source": [
    "## * acessa_api_camara()\n",
    "\n",
    "Faz um __POST__ com os parametros da API (__*order, ano, pagina, tiposDeProposicao*__) no site da Camara e recebe um __JSON de resposta__.\n",
    "\n",
    "Passa como parametros :\n",
    "\n",
    "* o ano_atual → como há recesso parlamentar no final do ano, nao ha riscos de perder propostas nos 3 primeiros dias do ano.\n",
    "* o tipo de proposicao → *PL, PLP ou PEC*.\n",
    "* o numero da pagina → a api exporta cum conjunto de dados limitados por pagina, com isso, passamos o número de cada página.\n",
    "\n",
    "[__API__   ](https://www.camara.leg.br/api/v1/busca/proposicoes/_search) USADA NO SITE DA CÂMARA"
   ]
  },
  {
   "cell_type": "code",
   "execution_count": 4,
   "metadata": {},
   "outputs": [],
   "source": [
    "def acessa_api_camara(ano_atual, tipo_proposicao, numero_da_pagina):\n",
    "    ua = UserAgent()\n",
    "    url = \"https://www.camara.leg.br/api/v1/busca/proposicoes/_search\"\n",
    "    payload = {\n",
    "        \"order\":\"data\",\n",
    "        \"ano\":ano_atual,\n",
    "        \"pagina\":numero_da_pagina,\n",
    "        \"tiposDeProposicao\": tipo_proposicao\n",
    "    }\n",
    "    headers = {\n",
    "        'Content-Type': \"application/json\",\n",
    "        'User-Agent': ua.random    \n",
    "        }\n",
    "    response = requests.post(url, data=json.dumps(payload), headers=headers)\n",
    "    return response.json()"
   ]
  },
  {
   "cell_type": "markdown",
   "metadata": {},
   "source": [
    "## * limita_props_dos_3_ultimos_dias()\n",
    "\n",
    "Chama a função __acessa_api_camara()__ e recebe o __json com os dados das proposições__.\n",
    "\n",
    "Busca a quantidade total de paginas com proposições e aloca na variavel *qtd_pags*.\n",
    "\n",
    "Busca a última data da primeira página. Caso seja mais do que os 3 dias, retorna uam lista da __funcao retorna_props()__\n",
    "\n",
    "Caso seja menos do que 2 dias, vai para a página seguinte e faz a mesma busca até que a data seja maior que 3 dias,\n",
    "fazerndo um break e retornando a lista da função __retorna_props()__"
   ]
  },
  {
   "cell_type": "code",
   "execution_count": 5,
   "metadata": {},
   "outputs": [],
   "source": [
    "def limita_props_dos_3_ultimos_dias(tipo_proposicao):    \n",
    "    n_i = 1\n",
    "    resp_json = acessa_api_camara(ano_atual, tipo_proposicao, n_i)\n",
    "    qtd_total = resp_json['aggregations']['ano']['buckets'][0]['doc_count']\n",
    "    qtd = len(resp_json['hits']['hits'])\n",
    "    qtd_pags = ceil(qtd_total / qtd)\n",
    "    datau = resp_json['hits']['hits'][(qtd-1)]['_source']['dataApresentacao'][:10]\n",
    "    datau = datetime.strptime(datau, '%Y-%m-%d').date()\n",
    "    if datau >= dias_3:\n",
    "        lista_preposicoes = []\n",
    "        while n_i < qtd_pags:        \n",
    "            resp_json = acessa_api_camara(ano_atual, tipo_proposicao, n_i)\n",
    "            n_i += 1\n",
    "            qtd_paginado = len(resp_json['hits']['hits'])\n",
    "            rr = retorna_props(qtd_paginado, resp_json, dias_3)\n",
    "            if rr == []:\n",
    "                break        \n",
    "            lista_preposicoes.append(rr)\n",
    "        return list(itertools.chain.from_iterable(lista_preposicoes))\n",
    "    else:\n",
    "        return retorna_props(qtd, resp_json, dias_3)"
   ]
  },
  {
   "cell_type": "markdown",
   "metadata": {},
   "source": [
    "## * exporta_dataframe()\n",
    "\n",
    "Exporta um dataframe para o tipo de proposição *PL, PLP ou PEC*.\n",
    "\n",
    "Remove o pdf usado para fazer o hash md5 da pasta.\n",
    "\n",
    "Monta e retorna um dataframe com a lista recebida."
   ]
  },
  {
   "cell_type": "code",
   "execution_count": 6,
   "metadata": {},
   "outputs": [],
   "source": [
    "def exporta_dataframe(tipo_proposicao):\n",
    "    try:\n",
    "        salva_pdf = 'salva_pdf'\n",
    "        path = f'{salva_pdf}.pdf'        \n",
    "        os.remove(path)\n",
    "    except:\n",
    "        pass\n",
    "    try:\n",
    "        sigalei = limita_props_dos_3_ultimos_dias(tipo_proposicao)        \n",
    "        df = pd.DataFrame(sigalei, columns = ['DATA', 'PROJETO', 'INDEX_PROJETO', 'MD5'])\n",
    "    except:    \n",
    "        sigalei = limita_props_dos_3_ultimos_dias(tipo_proposicao)\n",
    "        loop = len(sigalei)\n",
    "        print(len)\n",
    "        x = 0\n",
    "        df_list = []\n",
    "        while x < loop:\n",
    "            df_loop = pd.DataFrame(sigalei[x], columns = ['DATA', 'PROJETO', 'INDEX_PROJETO', 'MD5'])\n",
    "            df_list.append(df_loop)\n",
    "            x +=1\n",
    "        df = pd.concat(df_list)\n",
    "    return df    "
   ]
  },
  {
   "cell_type": "markdown",
   "metadata": {},
   "source": [
    "## * salva_csv()\n",
    "\n",
    "Salva o dataframe em CSV"
   ]
  },
  {
   "cell_type": "code",
   "execution_count": 7,
   "metadata": {},
   "outputs": [],
   "source": [
    "def salva_csv(df, p):\n",
    "    return df.to_csv(f'{p}.csv', index=False, sep=';')"
   ]
  },
  {
   "cell_type": "markdown",
   "metadata": {},
   "source": [
    "## * salva_json()\n",
    "\n",
    "Salva o dataframe em JSON"
   ]
  },
  {
   "cell_type": "code",
   "execution_count": 8,
   "metadata": {},
   "outputs": [],
   "source": [
    "def salva_json(df, p):    \n",
    "    retorno_json = df.to_json(orient='records')\n",
    "    with open(f'{p}.json', 'w') as fout:\n",
    "        json.dump(json.loads(retorno_json) , fout)"
   ]
  },
  {
   "cell_type": "markdown",
   "metadata": {},
   "source": [
    "***\n",
    "***\n",
    "***"
   ]
  },
  {
   "cell_type": "markdown",
   "metadata": {},
   "source": [
    "# RODANDO \n",
    "### ESCOLHA UMA DAS PROPOSIÇÕES: *PL, PLC ou PEC*\n",
    "\n",
    "*Pode demorar algo em torno de 30 segundos*"
   ]
  },
  {
   "cell_type": "code",
   "execution_count": 9,
   "metadata": {},
   "outputs": [
    {
     "name": "stdout",
     "output_type": "stream",
     "text": [
      "plp\n"
     ]
    }
   ],
   "source": [
    "# 'PL', 'PLP', 'PEC'\n",
    "\n",
    "tipo_proposicao=input().upper()"
   ]
  },
  {
   "cell_type": "markdown",
   "metadata": {},
   "source": [
    "***\n",
    "\n",
    "Gerando o Dataframe da proposição"
   ]
  },
  {
   "cell_type": "code",
   "execution_count": 10,
   "metadata": {},
   "outputs": [],
   "source": [
    "df_sigalei = exporta_dataframe(tipo_proposicao)"
   ]
  },
  {
   "cell_type": "markdown",
   "metadata": {},
   "source": [
    "***\n",
    "\n",
    "Explorando o Dataframe"
   ]
  },
  {
   "cell_type": "code",
   "execution_count": 11,
   "metadata": {},
   "outputs": [
    {
     "data": {
      "text/html": [
       "<div>\n",
       "<style scoped>\n",
       "    .dataframe tbody tr th:only-of-type {\n",
       "        vertical-align: middle;\n",
       "    }\n",
       "\n",
       "    .dataframe tbody tr th {\n",
       "        vertical-align: top;\n",
       "    }\n",
       "\n",
       "    .dataframe thead th {\n",
       "        text-align: right;\n",
       "    }\n",
       "</style>\n",
       "<table border=\"1\" class=\"dataframe\">\n",
       "  <thead>\n",
       "    <tr style=\"text-align: right;\">\n",
       "      <th></th>\n",
       "      <th>DATA</th>\n",
       "      <th>PROJETO</th>\n",
       "      <th>INDEX_PROJETO</th>\n",
       "      <th>MD5</th>\n",
       "    </tr>\n",
       "  </thead>\n",
       "  <tbody>\n",
       "    <tr>\n",
       "      <th>0</th>\n",
       "      <td>2021-09-16</td>\n",
       "      <td>PLP 140-2021</td>\n",
       "      <td>2299129</td>\n",
       "      <td>246dcbbe054bc801ab2a70e644506ff4</td>\n",
       "    </tr>\n",
       "    <tr>\n",
       "      <th>1</th>\n",
       "      <td>2021-09-16</td>\n",
       "      <td>PLP 139-2021</td>\n",
       "      <td>2299128</td>\n",
       "      <td>d1763f86a3fbfd50f91e923279685b36</td>\n",
       "    </tr>\n",
       "  </tbody>\n",
       "</table>\n",
       "</div>"
      ],
      "text/plain": [
       "         DATA       PROJETO INDEX_PROJETO                               MD5\n",
       "0  2021-09-16  PLP 140-2021       2299129  246dcbbe054bc801ab2a70e644506ff4\n",
       "1  2021-09-16  PLP 139-2021       2299128  d1763f86a3fbfd50f91e923279685b36"
      ]
     },
     "execution_count": 11,
     "metadata": {},
     "output_type": "execute_result"
    }
   ],
   "source": [
    "df_sigalei.head()"
   ]
  },
  {
   "cell_type": "code",
   "execution_count": 12,
   "metadata": {},
   "outputs": [
    {
     "name": "stdout",
     "output_type": "stream",
     "text": [
      "<class 'pandas.core.frame.DataFrame'>\n",
      "RangeIndex: 2 entries, 0 to 1\n",
      "Data columns (total 4 columns):\n",
      " #   Column         Non-Null Count  Dtype \n",
      "---  ------         --------------  ----- \n",
      " 0   DATA           2 non-null      object\n",
      " 1   PROJETO        2 non-null      object\n",
      " 2   INDEX_PROJETO  2 non-null      object\n",
      " 3   MD5            2 non-null      object\n",
      "dtypes: object(4)\n",
      "memory usage: 96.0+ bytes\n"
     ]
    }
   ],
   "source": [
    "df_sigalei.info()"
   ]
  },
  {
   "cell_type": "markdown",
   "metadata": {},
   "source": [
    "***\n",
    "\n",
    "Exportando para arquibo __CSV__"
   ]
  },
  {
   "cell_type": "code",
   "execution_count": 13,
   "metadata": {},
   "outputs": [],
   "source": [
    "salva_csv(df_sigalei, tipo_proposicao)"
   ]
  },
  {
   "cell_type": "markdown",
   "metadata": {},
   "source": [
    "***\n",
    "\n",
    "Exportando para arquibo __JSON__"
   ]
  },
  {
   "cell_type": "code",
   "execution_count": 14,
   "metadata": {},
   "outputs": [],
   "source": [
    "salva_json(df_sigalei, tipo_proposicao)"
   ]
  }
 ],
 "metadata": {
  "kernelspec": {
   "display_name": "Python 3",
   "language": "python",
   "name": "python3"
  },
  "language_info": {
   "codemirror_mode": {
    "name": "ipython",
    "version": 3
   },
   "file_extension": ".py",
   "mimetype": "text/x-python",
   "name": "python",
   "nbconvert_exporter": "python",
   "pygments_lexer": "ipython3",
   "version": "3.6.5"
  }
 },
 "nbformat": 4,
 "nbformat_minor": 2
}
